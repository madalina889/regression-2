{
 "cells": [
  {
   "cell_type": "markdown",
   "metadata": {},
   "source": [
    "DEMO: LINEAR REGRESSION "
   ]
  },
  {
   "cell_type": "code",
   "execution_count": null,
   "metadata": {},
   "outputs": [],
   "source": [
    "#import request libraries \n",
    "import pandas as pd\n",
    "import numpy as np\n",
    "import os\n",
    "import matplotlib.pyplot as plt\n",
    "import seaborn as sns\n",
    "from sklearn.model_selection import train_test_split\n",
    "from sklearn.linear_model import LinearRegression\n",
    "from sklearn.metrics import mean_squared_error\n",
    "from sklearn.metrics import r2_score \n",
    "from sklearn.preprocessing import OneHotEncoder\n",
    "from sklearn.preprocessing import LabelEncoder\n",
    "from sklearn.preprocessing import StandardScaler"
   ]
  },
  {
   "cell_type": "markdown",
   "metadata": {},
   "source": [
    "DATA LOADING AND VISUALIZATION "
   ]
  },
  {
   "cell_type": "code",
   "execution_count": null,
   "metadata": {},
   "outputs": [],
   "source": [
    "# Read data from file\n",
    "\n",
    "\n",
    "# Display sample data from the dataset"
   ]
  },
  {
   "cell_type": "code",
   "execution_count": null,
   "metadata": {},
   "outputs": [],
   "source": [
    "#Create a scatter plot with the data to see the relationship between the two variables"
   ]
  },
  {
   "cell_type": "markdown",
   "metadata": {},
   "source": [
    "DATA PREPARATION "
   ]
  },
  {
   "cell_type": "code",
   "execution_count": null,
   "metadata": {},
   "outputs": [],
   "source": [
    "# REFORM DATA OF THE INDEPENDENT VARIABLE X AS A SINGLE COLUMN DATAFRAME\n",
    "#(x= df['column_name'].values.reshape(-1,1))"
   ]
  },
  {
   "cell_type": "code",
   "execution_count": null,
   "metadata": {},
   "outputs": [],
   "source": [
    "# Create an array for the dependent variable y (Y = DF['COLUMN_NAME'])"
   ]
  },
  {
   "cell_type": "markdown",
   "metadata": {},
   "source": [
    "BUILDING THE LINEAR REGRESSION MODEL "
   ]
  },
  {
   "cell_type": "code",
   "execution_count": null,
   "metadata": {},
   "outputs": [],
   "source": [
    "# Create a model with scikit-learn ( model = LinearRegression() )\n"
   ]
  },
  {
   "cell_type": "code",
   "execution_count": null,
   "metadata": {},
   "outputs": [],
   "source": [
    "# Fit the data into the model (model.fit(X,y))"
   ]
  },
  {
   "cell_type": "code",
   "execution_count": null,
   "metadata": {},
   "outputs": [],
   "source": [
    "#Display the slope and intercept of the model (model.coef_, model.intercept_) , use print()\n",
    "\n",
    "\n",
    "#Display the model's best fit line formula (y = mx + b) (print(f\"Model's formula: y = {model.intercept_} + {model.coef_[0]}X\"))"
   ]
  },
  {
   "cell_type": "code",
   "execution_count": null,
   "metadata": {},
   "outputs": [],
   "source": [
    "# Make predictons with the X set (y_pred = model.predict(X))"
   ]
  },
  {
   "cell_type": "code",
   "execution_count": null,
   "metadata": {},
   "outputs": [],
   "source": [
    "# Create a copy of the original data \n",
    "\n",
    "# Add a new column to the copy of the original data with the predictions (df_copy['Predictions'] = y_pred)\n",
    "\n",
    "# Create a scatter plot with the original data and the best fit line example : (best_fit_line = df_salary_predicted.plot.line(\n",
    "#   x = \"years_experience\",\n",
    "#   y = \"salary_predicted\",\n",
    "#    color = \"red\"\n",
    "#)\n",
    "#best_fit_line)"
   ]
  },
  {
   "cell_type": "code",
   "execution_count": null,
   "metadata": {},
   "outputs": [],
   "source": [
    "# Plot the fit line and scatter points together (.plot.scatter ; .plot.line)"
   ]
  },
  {
   "cell_type": "markdown",
   "metadata": {},
   "source": [
    "Linear Regression Model Assessment "
   ]
  },
  {
   "cell_type": "code",
   "execution_count": null,
   "metadata": {},
   "outputs": [],
   "source": [
    "# Import relevant metrics - score , r2 , mse, rmse - from Sickit-learn\n",
    "# Compute the metrics for the linear regression ;example: \n",
    "# score = round(model.score(X, y, sample_weight=None),5)\n",
    "# r2 = round(r2_score(y, predicted_y_values),5)\n",
    "# mse = round(mean_squared_error(y, predicted_y_values),4)\n",
    "# rmse = round(np.sqrt(mse),4)"
   ]
  },
  {
   "cell_type": "markdown",
   "metadata": {},
   "source": [
    "SCIKIT-LEARN ENCODING METHOD \n"
   ]
  },
  {
   "cell_type": "code",
   "execution_count": null,
   "metadata": {},
   "outputs": [],
   "source": [
    "#Create an instance of OneHotEncoder() ( enc = OneHotEncoder(handle_unknown='ignore')\n",
    "#\n",
    "\n",
    "#Fit the encoder to the data \n",
    "\n",
    "#Transform the data with the encoder (enc.transform(data).toarray())\n",
    "\n",
    "#Default output is a sparse matrix, convert it to a dataframe (pd.DataFrame(enc.transform(data).toarray()))\n",
    "\n",
    "\n"
   ]
  },
  {
   "cell_type": "code",
   "execution_count": null,
   "metadata": {},
   "outputs": [],
   "source": [
    "#Get new feauture names from the encoder (enc.get_feature_names())"
   ]
  },
  {
   "cell_type": "code",
   "execution_count": null,
   "metadata": {},
   "outputs": [],
   "source": [
    "# Set up the OneHotEncoder so it will transform to Pandas \n",
    "\n",
    "\n",
    "#Fit and transform the OneHotEncoder to the columns to encode (enc.fit_transform(df[['column_name']]).toarray())"
   ]
  },
  {
   "cell_type": "markdown",
   "metadata": {},
   "source": [
    "LabelEncoder model"
   ]
  },
  {
   "cell_type": "code",
   "execution_count": null,
   "metadata": {},
   "outputs": [],
   "source": [
    "#Create an instance of the label encoder (le = LabelEncoder())\n",
    "\n",
    "\n",
    "# Copy df to a new dataframe (df_encoded = df.copy())\n",
    "\n",
    "# Fit and transform the label encoder for each column to encode ; example ( for column in columns_to_encode: df_encoded[column] = le.fit_transform(df[column])"
   ]
  },
  {
   "cell_type": "markdown",
   "metadata": {},
   "source": [
    "Sklearn train_test_split()"
   ]
  },
  {
   "cell_type": "code",
   "execution_count": null,
   "metadata": {},
   "outputs": [],
   "source": [
    "# Use the Sklearn train_test_split() function to split the data into training and testing sets (X_train, X_test, y_train, y_test = train_test_split(X, y, test_size=0.2, random_state=42))\n",
    "# Use Feauture Selection for X  ( feautures= [' all columns you need'] then X = df[feautures])\n",
    "\n"
   ]
  }
 ],
 "metadata": {
  "kernelspec": {
   "display_name": "base",
   "language": "python",
   "name": "python3"
  },
  "language_info": {
   "codemirror_mode": {
    "name": "ipython",
    "version": 3
   },
   "file_extension": ".py",
   "mimetype": "text/x-python",
   "name": "python",
   "nbconvert_exporter": "python",
   "pygments_lexer": "ipython3",
   "version": "3.12.7"
  }
 },
 "nbformat": 4,
 "nbformat_minor": 2
}
